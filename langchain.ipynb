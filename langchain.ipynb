{
 "cells": [
  {
   "cell_type": "code",
   "execution_count": null,
   "id": "8dbd1d24",
   "metadata": {},
   "outputs": [],
   "source": [
    "# pip install -qU langchain \\\n",
    "#     langchain-community \\\n",
    "#     langchain-together \\\n",
    "#     langchain-core \\\n",
    "#     langchain-google-vertexai \\\n",
    "#     gpt4all \\\n",
    "#     faiss-cpu \\\n",
    "#     faiss-gpu \\\n",
    "#     langgraph \\\n",
    "#     chromadb \\\n",
    "#     sentence-transformers \\\n",
    "#     tavily-python \\\n",
    "#     gradio"
   ]
  },
  {
   "cell_type": "code",
   "execution_count": 1,
   "id": "70c4f4bc",
   "metadata": {},
   "outputs": [
    {
     "name": "stderr",
     "output_type": "stream",
     "text": [
      "USER_AGENT environment variable not set, consider setting it to identify your requests.\n",
      "c:\\Users\\Alchemist\\Desktop\\LangChainProject\\venv\\Lib\\site-packages\\IPython\\core\\interactiveshell.py:3670: LangChainDeprecationWarning: As of langchain-core 0.3.0, LangChain uses pydantic v2 internally. The langchain_core.pydantic_v1 module was a compatibility shim for pydantic v1, and should no longer be used. Please update the code to import from Pydantic directly.\n",
      "\n",
      "For example, replace imports like: `from langchain_core.pydantic_v1 import BaseModel`\n",
      "with: `from pydantic import BaseModel`\n",
      "or the v1 compatibility namespace if you are working in a code base that has not been fully upgraded to pydantic 2 yet. \tfrom pydantic.v1 import BaseModel\n",
      "\n",
      "  exec(code_obj, self.user_global_ns, self.user_ns)\n"
     ]
    }
   ],
   "source": [
    "import os\n",
    "from dotenv import load_dotenv\n",
    "from langchain_community.document_loaders.web_base import WebBaseLoader\n",
    "from langchain.text_splitter import RecursiveCharacterTextSplitter\n",
    "import nest_asyncio\n",
    "from langchain_community.vectorstores.chroma import Chroma\n",
    "from langchain_huggingface import HuggingFaceEmbeddings\n",
    "\n",
    "from langchain_together import ChatTogether\n",
    "from langchain_community.tools import DuckDuckGoSearchResults\n",
    "from langchain_community.tools.tavily_search import TavilySearchResults\n",
    "from langchain_community.vectorstores import FAISS\n",
    "from langchain.prompts import ChatPromptTemplate\n",
    "from typing import Literal\n",
    "from langchain.chains.combine_documents import stuff\n",
    "from operator import itemgetter\n",
    "from langchain_core.output_parsers import StrOutputParser\n",
    "from IPython.core.display import Markdown\n",
    "import json\n",
    "import re\n",
    "\n",
    "from langchain_core.runnables import (\n",
    "    RunnableParallel,\n",
    "    RunnableBranch,\n",
    "    RunnablePassthrough,\n",
    ")\n",
    "\n",
    "from langchain_google_vertexai import ChatVertexAI\n",
    "\n",
    "from langchain_core.messages import HumanMessage, AIMessage\n",
    "import asyncio\n",
    "from langchain.output_parsers import PydanticOutputParser\n",
    "from langchain_core.prompts import PromptTemplate\n",
    "from langchain_core.pydantic_v1 import BaseModel, Field, validator\n",
    "from langchain_openai import ChatOpenAI\n",
    "from langchain_core.output_parsers import JsonOutputParser\n",
    "from pydantic import BaseModel , Field , validator\n"
   ]
  },
  {
   "cell_type": "code",
   "execution_count": null,
   "id": "0ce678ca",
   "metadata": {},
   "outputs": [],
   "source": [
    "# import os, getpass\n",
    "# print(\"Enter your Tavily API Key\")\n",
    "# TAVILY_API_KEY = getpass.getpass()\n",
    "# print(\"Enter your Together API Key\")\n",
    "# TOGETHER_API_KEY = getpass.getpass()\n",
    "\n",
    "# os.environ[\"TAVILY_API_KEY\"] = TAVILY_API_KEY\n",
    "# os.environ[\"TOGETHER_API_KEY\"] = TOGETHER_API_KEY"
   ]
  },
  {
   "cell_type": "code",
   "execution_count": null,
   "id": "631ede84",
   "metadata": {},
   "outputs": [],
   "source": [
    "urls = [\n",
    "    \"https://www.webmd.com/a-to-z-guides/malaria\",\n",
    "    \"https://www.webmd.com/diabetes/type-1-diabetes\",\n",
    "    \"https://www.webmd.com/diabetes/type-2-diabetes\",\n",
    "    \"https://www.webmd.com/migraines-headaches/migraines-headaches-migraines\",\n",
    "]\n",
    "\n",
    "loader = WebBaseLoader(urls, bs_get_text_kwargs={\"strip\": True})\n",
    "docs = loader.load()"
   ]
  },
  {
   "cell_type": "code",
   "execution_count": null,
   "id": "6f276e69",
   "metadata": {},
   "outputs": [],
   "source": [
    "text_splitter = RecursiveCharacterTextSplitter(chunk_size=500, chunk_overlap=30)\n",
    "chunks = text_splitter.split_documents(docs)"
   ]
  },
  {
   "cell_type": "code",
   "execution_count": null,
   "id": "818142fb",
   "metadata": {},
   "outputs": [
    {
     "data": {
      "text/plain": [
       "SentenceTransformer(\n",
       "  (0): Transformer({'max_seq_length': 384, 'do_lower_case': False}) with Transformer model: MPNetModel \n",
       "  (1): Pooling({'word_embedding_dimension': 768, 'pooling_mode_cls_token': False, 'pooling_mode_mean_tokens': True, 'pooling_mode_max_tokens': False, 'pooling_mode_mean_sqrt_len_tokens': False, 'pooling_mode_weightedmean_tokens': False, 'pooling_mode_lasttoken': False, 'include_prompt': True})\n",
       "  (2): Normalize()\n",
       ")"
      ]
     },
     "execution_count": 7,
     "metadata": {},
     "output_type": "execute_result"
    }
   ],
   "source": [
    "from sentence_transformers import SentenceTransformer\n",
    "model = SentenceTransformer(\"sentence-transformers/all-mpnet-base-v2\")\n",
    "model"
   ]
  },
  {
   "cell_type": "code",
   "execution_count": 10,
   "id": "0b778be9",
   "metadata": {},
   "outputs": [
    {
     "data": {
      "text/plain": [
       "HuggingFaceEmbeddings(model_name='sentence-transformers/all-mpnet-base-v2', cache_folder=None, model_kwargs={}, encode_kwargs={}, multi_process=True, show_progress=True)"
      ]
     },
     "execution_count": 10,
     "metadata": {},
     "output_type": "execute_result"
    }
   ],
   "source": [
    "embedding_function = HuggingFaceEmbeddings(model_name='sentence-transformers/all-mpnet-base-v2',show_progress=True, multi_process=True)\n",
    "embedding_function"
   ]
  },
  {
   "cell_type": "code",
   "execution_count": 11,
   "id": "812ceda6",
   "metadata": {},
   "outputs": [],
   "source": [
    "vector_store = FAISS.from_documents(documents=chunks, embedding=embedding_function)"
   ]
  },
  {
   "cell_type": "code",
   "execution_count": 13,
   "id": "a79594c0",
   "metadata": {},
   "outputs": [
    {
     "data": {
      "text/plain": [
       "VectorStoreRetriever(tags=['FAISS', 'HuggingFaceEmbeddings'], vectorstore=<langchain_community.vectorstores.faiss.FAISS object at 0x000002FD3C81AA20>, search_kwargs={'k': 3})"
      ]
     },
     "execution_count": 13,
     "metadata": {},
     "output_type": "execute_result"
    }
   ],
   "source": [
    "retriever = vector_store.as_retriever(search_kwargs={\"k\": 3})\n",
    "retriever"
   ]
  },
  {
   "cell_type": "code",
   "execution_count": null,
   "id": "fff12f68",
   "metadata": {},
   "outputs": [],
   "source": []
  }
 ],
 "metadata": {
  "kernelspec": {
   "display_name": "venv",
   "language": "python",
   "name": "python3"
  },
  "language_info": {
   "codemirror_mode": {
    "name": "ipython",
    "version": 3
   },
   "file_extension": ".py",
   "mimetype": "text/x-python",
   "name": "python",
   "nbconvert_exporter": "python",
   "pygments_lexer": "ipython3",
   "version": "3.12.2"
  }
 },
 "nbformat": 4,
 "nbformat_minor": 5
}
